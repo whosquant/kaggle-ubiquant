{
 "cells": [
  {
   "cell_type": "code",
   "execution_count": null,
   "id": "537d5db4",
   "metadata": {
    "_cell_guid": "b1076dfc-b9ad-4769-8c92-a6c4dae69d19",
    "_uuid": "8f2839f25d086af736a60e9eeb907d3b93b6e0e5",
    "execution": {
     "iopub.execute_input": "2022-04-19T19:46:51.133225Z",
     "iopub.status.busy": "2022-04-19T19:46:51.131398Z",
     "iopub.status.idle": "2022-04-19T19:46:53.284806Z",
     "shell.execute_reply": "2022-04-19T19:46:53.283981Z",
     "shell.execute_reply.started": "2022-04-19T19:46:13.006462Z"
    },
    "papermill": {
     "duration": 2.171529,
     "end_time": "2022-04-19T19:46:53.284978",
     "exception": false,
     "start_time": "2022-04-19T19:46:51.113449",
     "status": "completed"
    },
    "tags": []
   },
   "outputs": [],
   "source": [
    "import gc\n",
    "from glob import glob\n",
    "import numpy as np\n",
    "import pandas as pd\n",
    "from tqdm import tqdm\n",
    "from scipy import stats\n",
    "import lightgbm as lgb\n",
    "\n",
    "import matplotlib.pyplot as plt\n",
    "import seaborn as sns\n",
    "\n",
    "np.random.seed(2)"
   ]
  },
  {
   "cell_type": "code",
   "execution_count": null,
   "id": "8243f40c",
   "metadata": {
    "execution": {
     "iopub.execute_input": "2022-04-19T19:46:53.314932Z",
     "iopub.status.busy": "2022-04-19T19:46:53.314288Z",
     "iopub.status.idle": "2022-04-19T19:46:53.328578Z",
     "shell.execute_reply": "2022-04-19T19:46:53.329152Z",
     "shell.execute_reply.started": "2022-04-19T19:46:15.475427Z"
    },
    "papermill": {
     "duration": 0.029965,
     "end_time": "2022-04-19T19:46:53.329330",
     "exception": false,
     "start_time": "2022-04-19T19:46:53.299365",
     "status": "completed"
    },
    "tags": []
   },
   "outputs": [],
   "source": [
    "def pearsonr(preds: np.array, dset: lgb.Dataset):\n",
    "    \"\"\"\n",
    "    Helper function to compute Pearson correlation \n",
    "    on validation dataset for LightGBM as tracking metric.\n",
    "    Args:\n",
    "        preds: 1d-array with the model predictions\n",
    "        dset: LightGBM dataset with the labels\n",
    "    Returs:\n",
    "        Tuple with the corresponding output\n",
    "    \"\"\"\n",
    "    labels = dset.get_label() # 获取lgb.Dataset的label\n",
    "    return 'pearsonr', stats.pearsonr(preds, labels)[0], True\n",
    "\n",
    "def reduce_mem_usage(df, verbose=False):\n",
    "    \"\"\"\n",
    "    Utility function to reduce the memory usage of pandas dataframes\n",
    "    \n",
    "    Parameters\n",
    "    ----------\n",
    "    df: pandas.Dataframe\n",
    "    verbose: Boolean\n",
    "    \"\"\"\n",
    "    numerics = ['int16', 'int32', 'int64', 'float16', 'float32', 'float64']\n",
    "    start_mem = df.memory_usage().sum() / 1024**2    \n",
    "    for col in df.columns:\n",
    "        col_type = df[col].dtypes\n",
    "        if col_type in numerics:\n",
    "            c_min = df[col].min()\n",
    "            c_max = df[col].max()\n",
    "            if str(col_type)[:3] == 'int':\n",
    "                if c_min > np.iinfo(np.int8).min and c_max < np.iinfo(np.int8).max:\n",
    "                    df[col] = df[col].astype(np.int8)\n",
    "                elif c_min > np.iinfo(np.int16).min and c_max < np.iinfo(np.int16).max:\n",
    "                    df[col] = df[col].astype(np.int16)\n",
    "                elif c_min > np.iinfo(np.int32).min and c_max < np.iinfo(np.int32).max:\n",
    "                    df[col] = df[col].astype(np.int32)\n",
    "                elif c_min > np.iinfo(np.int64).min and c_max < np.iinfo(np.int64).max:\n",
    "                    df[col] = df[col].astype(np.int64)  \n",
    "            else:\n",
    "                if c_min > np.finfo(np.float32).min and c_max < np.finfo(np.float32).max:\n",
    "                    df[col] = df[col].astype(np.float32)\n",
    "                else:\n",
    "                    df[col] = df[col].astype(np.float64)    \n",
    "    end_mem = df.memory_usage().sum() / 1024**2\n",
    "    if verbose: \n",
    "        print('Mem. usage decreased to {:5.2f} Mb ({:.1f}% reduction)'.format(end_mem, 100 * (start_mem - end_mem) / start_mem))\n",
    "    return df"
   ]
  },
  {
   "cell_type": "markdown",
   "id": "191e806f",
   "metadata": {
    "papermill": {
     "duration": 0.011606,
     "end_time": "2022-04-19T19:46:53.352713",
     "exception": false,
     "start_time": "2022-04-19T19:46:53.341107",
     "status": "completed"
    },
    "tags": []
   },
   "source": [
    "***\n",
    "## load models"
   ]
  },
  {
   "cell_type": "code",
   "execution_count": null,
   "id": "5b13a058",
   "metadata": {
    "execution": {
     "iopub.execute_input": "2022-04-19T19:46:53.381594Z",
     "iopub.status.busy": "2022-04-19T19:46:53.380921Z",
     "iopub.status.idle": "2022-04-19T19:46:55.173465Z",
     "shell.execute_reply": "2022-04-19T19:46:55.172884Z",
     "shell.execute_reply.started": "2022-04-19T19:46:15.494685Z"
    },
    "papermill": {
     "duration": 1.809033,
     "end_time": "2022-04-19T19:46:55.173617",
     "exception": false,
     "start_time": "2022-04-19T19:46:53.364584",
     "status": "completed"
    },
    "tags": []
   },
   "outputs": [],
   "source": [
    "files = glob(\"./lgbm-seed*.txt\")\n",
    "display(files)\n",
    "\n",
    "boosters_lgbm_linear_dart = [lgb.Booster(model_file=fn) for fn in files] # 导入训练好的模型\n",
    "display(boosters_lgbm_linear_dart)"
   ]
  },
  {
   "cell_type": "markdown",
   "id": "c5786652",
   "metadata": {
    "papermill": {
     "duration": 0.012522,
     "end_time": "2022-04-19T19:46:55.198885",
     "exception": false,
     "start_time": "2022-04-19T19:46:55.186363",
     "status": "completed"
    },
    "tags": []
   },
   "source": [
    "***\n",
    "## model finetuning on newest data"
   ]
  },
  {
   "cell_type": "code",
   "execution_count": null,
   "id": "ef490043",
   "metadata": {
    "execution": {
     "iopub.execute_input": "2022-04-19T19:46:55.231958Z",
     "iopub.status.busy": "2022-04-19T19:46:55.231275Z",
     "iopub.status.idle": "2022-04-19T19:50:38.434654Z",
     "shell.execute_reply": "2022-04-19T19:50:38.433907Z"
    },
    "papermill": {
     "duration": 223.223454,
     "end_time": "2022-04-19T19:50:38.434958",
     "exception": false,
     "start_time": "2022-04-19T19:46:55.211504",
     "status": "completed"
    },
    "tags": []
   },
   "outputs": [],
   "source": [
    "feat_names = [f\"f_{i}\" for i in range(300)] # 300个特征名称\n",
    "col_names = feat_names + [\"target\"] # 特征 + label\n",
    "\n",
    "supp_data = pd.read_csv(\"../input/ubiquant-market-prediction/supplemental_train.csv\", usecols=col_names) # 读取补充数据\n",
    "supp_data = reduce_mem_usage(supp_data, verbose=True) # 减少内存占用\n",
    "gc.collect()"
   ]
  },
  {
   "cell_type": "code",
   "execution_count": null,
   "id": "13d5ee9c",
   "metadata": {
    "execution": {
     "iopub.execute_input": "2022-04-19T19:50:38.475660Z",
     "iopub.status.busy": "2022-04-19T19:50:38.474918Z",
     "iopub.status.idle": "2022-04-19T19:50:39.621774Z",
     "shell.execute_reply": "2022-04-19T19:50:39.621161Z"
    },
    "papermill": {
     "duration": 1.173548,
     "end_time": "2022-04-19T19:50:39.621927",
     "exception": false,
     "start_time": "2022-04-19T19:50:38.448379",
     "status": "completed"
    },
    "tags": []
   },
   "outputs": [],
   "source": [
    "train_dset = lgb.Dataset(\n",
    "    data=supp_data[feat_names], # 补充数据特征\n",
    "    label=supp_data[\"target\"].values, # 补充数据label\n",
    "    free_raw_data=False, # 关闭原始数据的释放\n",
    ")\n",
    "del supp_data\n",
    "gc.collect()"
   ]
  },
  {
   "cell_type": "code",
   "execution_count": null,
   "id": "ca9aba62",
   "metadata": {
    "execution": {
     "iopub.execute_input": "2022-04-19T19:50:39.657554Z",
     "iopub.status.busy": "2022-04-19T19:50:39.652739Z",
     "iopub.status.idle": "2022-04-19T19:50:39.660086Z",
     "shell.execute_reply": "2022-04-19T19:50:39.659437Z"
    },
    "papermill": {
     "duration": 0.024375,
     "end_time": "2022-04-19T19:50:39.660229",
     "exception": false,
     "start_time": "2022-04-19T19:50:39.635854",
     "status": "completed"
    },
    "tags": []
   },
   "outputs": [],
   "source": [
    "model_params = {\n",
    "    'boosting': 'dart', # dart 提升算法\n",
    "    'linear_tree': True, # 线性树\n",
    "    'objective': 'mse', # 均方误差\n",
    "    'metric': 'rmse', # # 均方根误差\n",
    "    'learning_rate': 0.05,  # 学习率\n",
    "    'num_leaves': 32, # 最大叶子数量\n",
    "    'max_bin': 511, # 最大分箱数\n",
    "    'force_col_wise': True, # 强制建立列直方图\n",
    "    'bagging_freq': 1, # 每 k 次迭代执行bagging\n",
    "    'seed': 42, # 随机种子\n",
    "    'verbosity': -1, # 不输出\n",
    "    'first_metric_only': False, # 只计算第一个指标\n",
    "    'bin_construct_sample_cnt': 100000000, # 分箱构造样本数量\n",
    "    'feature_pre_filter': False, # 特征预过滤\n",
    "    'bagging_fraction': 1.0, # 不进行重采样的情况下随机选择部分数据\n",
    "    'drop_rate': 0.05, # 丢弃率\n",
    "    'feature_fraction': 0.15000000000000002,  # 特征采样比例\n",
    "    'lambda_l1': 3.2608153782775893, # L1正则化\n",
    "    'lambda_l2': 24.65715474841406, # L2正则化\n",
    "    'linear_lambda': 15.831719022196562, # 线性回归正则化\n",
    "    'max_drop': 20, # 在一次提升迭代中被丢弃的树的最大数量\n",
    "    'min_data_in_leaf': 2200, # 叶子节点最少样本数\n",
    "    'num_iterations': 450, # 迭代次数\n",
    "    'path_smooth': 4.714076496843463, # 树节点的平滑度, 有助于防止对样本少的树叶进行过度拟合\n",
    "    'skip_drop': 0.65 # 跳过丢弃的概率\n",
    "}"
   ]
  },
  {
   "cell_type": "code",
   "execution_count": null,
   "id": "23a433bb",
   "metadata": {
    "execution": {
     "iopub.execute_input": "2022-04-19T19:50:39.697467Z",
     "iopub.status.busy": "2022-04-19T19:50:39.691631Z",
     "iopub.status.idle": "2022-04-19T20:23:39.528167Z",
     "shell.execute_reply": "2022-04-19T20:23:39.528684Z"
    },
    "papermill": {
     "duration": 1979.854791,
     "end_time": "2022-04-19T20:23:39.528959",
     "exception": false,
     "start_time": "2022-04-19T19:50:39.674168",
     "status": "completed"
    },
    "tags": []
   },
   "outputs": [],
   "source": [
    "seeds = [2,7,11,19,23] # 随机种子列表\n",
    "finetuned_models = list() # finetune模型列表\n",
    "\n",
    "for seed,base_model in zip(seeds, boosters_lgbm_linear_dart):\n",
    "    _model_params = dict(model_params) \n",
    "    _model_params[\"seed\"] = seed # 设置随机种子\n",
    "    \n",
    "    log_callback = lgb.log_evaluation(period=20) # 训练日志频率\n",
    "    \n",
    "    model = lgb.train(\n",
    "        params=_model_params, # 模型参数\n",
    "        train_set=train_dset, # 训练集\n",
    "        valid_sets=[train_dset,], # 验证集\n",
    "        feval=pearsonr, # 评估函数\n",
    "        callbacks=[log_callback,], # 训练日志\n",
    "        init_model=base_model, # 继续训练的base模型\n",
    "    )\n",
    "    finetuned_models.append(model) # 加入到finetune模型列表\n",
    "\n",
    "    lgb.plot_importance(model, figsize=(8,15), importance_type=\"split\", max_num_features=30) # split 特征重要度\n",
    "    lgb.plot_importance(model, figsize=(8,15), importance_type=\"gain\", max_num_features=30) # gain 特征重要度\n",
    "    plt.show()"
   ]
  },
  {
   "cell_type": "code",
   "execution_count": null,
   "id": "a1b3dbe3",
   "metadata": {
    "execution": {
     "iopub.execute_input": "2022-04-19T20:23:39.665869Z",
     "iopub.status.busy": "2022-04-19T20:23:39.665246Z",
     "iopub.status.idle": "2022-04-19T20:23:39.902271Z",
     "shell.execute_reply": "2022-04-19T20:23:39.902793Z"
    },
    "papermill": {
     "duration": 0.307333,
     "end_time": "2022-04-19T20:23:39.902968",
     "exception": false,
     "start_time": "2022-04-19T20:23:39.595635",
     "status": "completed"
    },
    "tags": []
   },
   "outputs": [],
   "source": [
    "del train_dset, boosters_lgbm_linear_dart\n",
    "gc.collect()"
   ]
  },
  {
   "cell_type": "markdown",
   "id": "92d6311f",
   "metadata": {
    "papermill": {
     "duration": 0.068574,
     "end_time": "2022-04-19T20:23:40.039985",
     "exception": false,
     "start_time": "2022-04-19T20:23:39.971411",
     "status": "completed"
    },
    "tags": []
   },
   "source": [
    "***\n",
    "## inference"
   ]
  },
  {
   "cell_type": "code",
   "execution_count": null,
   "id": "14b8d42e",
   "metadata": {
    "execution": {
     "iopub.execute_input": "2022-04-19T20:23:40.179467Z",
     "iopub.status.busy": "2022-04-19T20:23:40.178765Z",
     "iopub.status.idle": "2022-04-19T20:23:40.226916Z",
     "shell.execute_reply": "2022-04-19T20:23:40.226339Z"
    },
    "papermill": {
     "duration": 0.119884,
     "end_time": "2022-04-19T20:23:40.227088",
     "exception": false,
     "start_time": "2022-04-19T20:23:40.107204",
     "status": "completed"
    },
    "tags": []
   },
   "outputs": [],
   "source": [
    "import ubiquant # 导入ubiquant模块\n",
    "env = ubiquant.make_env()  \n",
    "iter_test = env.iter_test()"
   ]
  },
  {
   "cell_type": "code",
   "execution_count": null,
   "id": "e5d4d76f",
   "metadata": {
    "execution": {
     "iopub.execute_input": "2022-04-19T20:23:40.369742Z",
     "iopub.status.busy": "2022-04-19T20:23:40.368919Z",
     "iopub.status.idle": "2022-04-19T20:23:40.372022Z",
     "shell.execute_reply": "2022-04-19T20:23:40.371532Z"
    },
    "papermill": {
     "duration": 0.076852,
     "end_time": "2022-04-19T20:23:40.372207",
     "exception": false,
     "start_time": "2022-04-19T20:23:40.295355",
     "status": "completed"
    },
    "tags": []
   },
   "outputs": [],
   "source": [
    "def predict(boosters, dataframe ):\n",
    "    features = [f\"f_{i}\" for i in range(300)] # 300个特征\n",
    "    preds = [\n",
    "        model.predict(\n",
    "            dataframe[features], # 特征数据\n",
    "            start_iteration=0, # 起始迭代次数\n",
    "            num_iteration=model.current_iteration(), # 迭代次数\n",
    "        ) \n",
    "        for model in boosters\n",
    "    ]\n",
    "    return np.mean(preds, axis=0) # 各个模型预测结果的均值"
   ]
  },
  {
   "cell_type": "code",
   "execution_count": null,
   "id": "138d0a75",
   "metadata": {
    "execution": {
     "iopub.execute_input": "2022-04-19T20:23:40.512509Z",
     "iopub.status.busy": "2022-04-19T20:23:40.511645Z",
     "iopub.status.idle": "2022-04-19T20:23:40.752099Z",
     "shell.execute_reply": "2022-04-19T20:23:40.752695Z"
    },
    "papermill": {
     "duration": 0.313412,
     "end_time": "2022-04-19T20:23:40.752890",
     "exception": false,
     "start_time": "2022-04-19T20:23:40.439478",
     "status": "completed"
    },
    "tags": []
   },
   "outputs": [],
   "source": [
    "for (test_df, sample_prediction_df) in iter_test:  \n",
    "    predictions = predict(finetuned_models, test_df) # 预测结果\n",
    "    sample_prediction_df['target'] = predictions # 将预测结果加入到sample_prediction_df中\n",
    "    env.predict(sample_prediction_df) # 提交预测\n",
    "    display(sample_prediction_df)"
   ]
  },
  {
   "cell_type": "markdown",
   "id": "c766219b",
   "metadata": {
    "papermill": {
     "duration": 0.071319,
     "end_time": "2022-04-19T20:23:40.895995",
     "exception": false,
     "start_time": "2022-04-19T20:23:40.824676",
     "status": "completed"
    },
    "tags": []
   },
   "source": [
    "***"
   ]
  }
 ],
 "metadata": {
  "kernelspec": {
   "display_name": "Python 3.7.11 ('py37')",
   "language": "python",
   "name": "python3"
  },
  "language_info": {
   "codemirror_mode": {
    "name": "ipython",
    "version": 3
   },
   "file_extension": ".py",
   "mimetype": "text/x-python",
   "name": "python",
   "nbconvert_exporter": "python",
   "pygments_lexer": "ipython3",
   "version": "3.7.11"
  },
  "papermill": {
   "default_parameters": {},
   "duration": 2221.215846,
   "end_time": "2022-04-19T20:23:42.208448",
   "environment_variables": {},
   "exception": null,
   "input_path": "__notebook__.ipynb",
   "output_path": "__notebook__.ipynb",
   "parameters": {},
   "start_time": "2022-04-19T19:46:40.992602",
   "version": "2.3.3"
  },
  "vscode": {
   "interpreter": {
    "hash": "b79a61544c9a744d09395b396d14bdc3ab2980641b64ddb1c7bc6d7b892900a0"
   }
  }
 },
 "nbformat": 4,
 "nbformat_minor": 5
}
